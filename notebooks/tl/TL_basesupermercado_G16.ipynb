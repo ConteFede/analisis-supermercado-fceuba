{
  "nbformat": 4,
  "nbformat_minor": 0,
  "metadata": {
    "colab": {
      "provenance": [],
      "collapsed_sections": [
        "KhI6QJQz2oQ9",
        "maoFm0AP24TE",
        "hUF6NJdP4TZ-",
        "43m4LnZ03_rk",
        "uYsi-NvS34xE",
        "QeejH72HAWtZ",
        "x2C2_D78BLie"
      ]
    },
    "kernelspec": {
      "name": "python3",
      "display_name": "Python 3"
    },
    "language_info": {
      "name": "python"
    }
  },
  "cells": [
    {
      "cell_type": "markdown",
      "source": [
        "#Data Exporatory Analysis and Modeling"
      ],
      "metadata": {
        "id": "d8_ivxyZ2BCb"
      }
    },
    {
      "cell_type": "markdown",
      "source": [
        "Tomando como base la forma normal de \"base supermercado\" generada, analizaremos cada tabla, generaremos y modelaremos un OLAP para su posterior analisis en Power BI."
      ],
      "metadata": {
        "id": "OnozSCEo2R3c"
      }
    },
    {
      "cell_type": "markdown",
      "source": [
        "##Importamos librerías y la Base de Datos de Supermercado"
      ],
      "metadata": {
        "id": "KhI6QJQz2oQ9"
      }
    },
    {
      "cell_type": "code",
      "execution_count": null,
      "metadata": {
        "id": "WxpE1RYW1a8r"
      },
      "outputs": [],
      "source": [
        "from google.colab import files\n",
        "from google.colab import drive"
      ]
    },
    {
      "cell_type": "code",
      "source": [
        "drive.mount('/content/drive')"
      ],
      "metadata": {
        "id": "Sc1BwfSD2qfp"
      },
      "execution_count": null,
      "outputs": []
    },
    {
      "cell_type": "markdown",
      "source": [
        "Librerías que vamos a utilizar"
      ],
      "metadata": {
        "id": "SDmW-t462sM1"
      }
    },
    {
      "cell_type": "code",
      "source": [
        "import pandas as pd"
      ],
      "metadata": {
        "id": "aaDO9yPI2t1J"
      },
      "execution_count": null,
      "outputs": []
    },
    {
      "cell_type": "markdown",
      "source": [
        "##Maestro Ordenes y Métodos de Pago"
      ],
      "metadata": {
        "id": "maoFm0AP24TE"
      }
    },
    {
      "cell_type": "code",
      "source": [
        "#Cargamos tabla de ordenes\n",
        "ot_ordenes_detalle = pd.read_csv(r'C:\\Users\\fedel\\OneDrive\\Escritorio\\Documents\\csv-20241003T214749Z-001\\csv\\bs_ordenes_det_mod_1.csv')\n",
        "ot_ordenes_detalle.head()\n",
        "#Agregamos etiqueta de operación\n",
        "ot_ordenes_detalle['operacion'] = 'venta'\n",
        "#Creamos el indice que va a ser el PK de la tabla final\n",
        "ot_ordenes_detalle['id_ord_total'] = ot_ordenes_detalle['id_ord_prod'] + \"_\" + \"v\"\n",
        "ot_ordenes_detalle.head()\n",
        "ot_ordenes_detalle.columns\n",
        "ot_ordenes_detalle = ot_ordenes_detalle.reindex(['id_ord_total', 'operacion', 'id_ord_prod', 'idOrden', 'idProducto', 'cantidad', 'precioUnitario','precio'],axis=1)\n",
        "ot_ordenes_detalle.head()\n",
        "\n",
        "#Cargamos las devoluciones\n",
        "bs_devoluciones_1 = pd.read_csv(r'C:\\Users\\fedel\\OneDrive\\Escritorio\\Documents\\csv-20241003T214749Z-001\\csv\\bs_devoluciones_1.csv')\n",
        "bs_devoluciones_2 = pd.read_csv(r'C:\\Users\\fedel\\OneDrive\\Escritorio\\Documents\\csv-20241003T214749Z-001\\csv\\bs_devoluciones_2.csv')\n",
        "bs_devoluciones_3 = pd.read_csv(r'C:\\Users\\fedel\\OneDrive\\Escritorio\\Documents\\csv-20241003T214749Z-001\\csv\\bs_devoluciones_3.csv')\n",
        "bs_devoluciones_4 = pd.read_csv(r'C:\\Users\\fedel\\OneDrive\\Escritorio\\Documents\\csv-20241003T214749Z-001\\csv\\bs_devoluciones_4.csv')\n",
        "bs_devoluciones_5 = pd.read_csv(r'C:\\Users\\fedel\\OneDrive\\Escritorio\\Documents\\csv-20241003T214749Z-001\\csv\\bs_devoluciones_5.csv')\n",
        "\n",
        "bs_devoluciones_3.columns\n",
        "#Combinamos las tablas, desnomarlizamos\n",
        "bs_devoluciones_2 = pd.merge(bs_devoluciones_2, bs_devoluciones_3[['id_motdev', 'motivoDevolucion']], left_on='id_motdev', right_on='id_motdev', how='left')\n",
        "bs_devoluciones_2 = bs_devoluciones_2.drop('id_motdev', axis=1)\n",
        "bs_devoluciones_2\n",
        "\n",
        "#Dejamos la tabla devoluciones desnormalizada para combinar\n",
        "bs_devoluciones_4 = pd.merge(bs_devoluciones_4, bs_devoluciones_5[['id_resol', 'resolucion']], left_on='id_resol', right_on='id_resol', how='left')\n",
        "bs_devoluciones_4 = bs_devoluciones_4.drop('id_resol', axis=1)\n",
        "bs_devoluciones_4\n",
        "\n",
        "#Combinamos con la principal\n",
        "bs_devoluciones_1 = pd.merge(bs_devoluciones_1, bs_devoluciones_2[['id_ord_prod', 'motivoDevolucion']], left_on='id_ord_prod', right_on='id_ord_prod', how='left')\n",
        "bs_devoluciones_1 = pd.merge(bs_devoluciones_1, bs_devoluciones_4[['id_ord_prod', 'resolucion']], left_on='id_ord_prod', right_on='id_ord_prod', how='left')\n",
        "bs_devoluciones_1\n",
        "bs_devoluciones_1.columns\n",
        "bs_devoluciones_1['operacion'] = 'devolucion'\n",
        "bs_devoluciones_1['id_ord_total'] = bs_devoluciones_1['id_ord_prod'] + \"_\" + \"d\"\n",
        "bs_devoluciones_1.columns\n",
        "\n",
        "bs_devoluciones_1 = bs_devoluciones_1.reindex(['id_ord_total', 'operacion', 'id_ord_prod', 'idOrden', 'idProducto', 'cantidadDevuelta', 'fechaDevolucion', 'motivoDevolucion', 'resolucion'],axis=1)\n",
        "bs_devoluciones_1.head()\n",
        "\n",
        "#Contatenamos ambas tablas para crear Ordenes_total\n",
        "bs_ordenes_total = pd.concat([ot_ordenes_detalle, bs_devoluciones_1], ignore_index=True)\n",
        "bs_ordenes_total.head()\n",
        "\n",
        "#Cargamos tabla de ordenes que tiene información de medios de pagos, y clientes.\n",
        "bs_ordenes_1 = pd.read_csv(r'C:\\Users\\fedel\\OneDrive\\Escritorio\\Documents\\csv-20241003T214749Z-001\\csv\\bs_ordenes_1.csv')\n",
        "bs_ordenes_2 = pd.read_csv(r'C:\\Users\\fedel\\OneDrive\\Escritorio\\Documents\\csv-20241003T214749Z-001\\csv\\bs_ordenes_2.csv')\n",
        "bs_ordenes_3 = pd.read_csv(r'C:\\Users\\fedel\\OneDrive\\Escritorio\\Documents\\csv-20241003T214749Z-001\\csv\\bs_ordenes_3.csv')\n",
        "bs_ordenes_4 = pd.read_csv(r'C:\\Users\\fedel\\OneDrive\\Escritorio\\Documents\\csv-20241003T214749Z-001\\csv\\bs_ordenes_4.csv')\n",
        "bs_ordenes_5 = pd.read_csv(r'C:\\Users\\fedel\\OneDrive\\Escritorio\\Documents\\csv-20241003T214749Z-001\\csv\\bs_ordenes_5.csv')\n",
        "\n",
        "\n",
        "bs_ordenes_4.columns\n",
        "bs_ordenes_2.columns\n",
        "#Combinamos las tablas, desnomarlizamos\n",
        "bs_ordenes_2 = pd.merge(bs_ordenes_2, bs_ordenes_3[['id_metpago', 'metodoDePago']], left_on='id_metpago', right_on='id_metpago', how='left')\n",
        "bs_ordenes_2\n",
        "\n",
        "#Dejamos la tabla devoluciones desnormalizada para combinar\n",
        "bs_ordenes_4 = pd.merge(bs_ordenes_4, bs_ordenes_5[['id_estado', 'estado']], left_on='id_estado', right_on='id_estado', how='left')\n",
        "bs_ordenes_4 = bs_ordenes_4.drop('id_estado', axis=1)\n",
        "bs_ordenes_4\n",
        "\n",
        "#Combinamos con la principal\n",
        "bs_ordenes_1 = pd.merge(bs_ordenes_1, bs_ordenes_2[['idOrden', 'id_metpago']], left_on='idOrden', right_on='idOrden', how='left')\n",
        "bs_ordenes_1 = pd.merge(bs_ordenes_1, bs_ordenes_4[['idOrden', 'estado']], left_on='idOrden', right_on='idOrden', how='left')\n",
        "bs_ordenes_1\n",
        "bs_ordenes_1.columns\n",
        "\n",
        "\n",
        "bs_devoluciones_1 = bs_devoluciones_1.reindex(['id_ord_total', 'operacion', 'id_ord_prod', 'idOrden', 'idProducto', 'cantidadDevuelta', 'fechaDevolucion', 'motivoDevolucion', 'resolucion'],axis=1)\n",
        "bs_devoluciones_1.head()\n",
        "\n",
        "bs_ordenes_total = pd.merge(bs_ordenes_total, bs_ordenes_1[['idOrden', 'montoTotal', 'fechaCompra', 'idCliente', 'idSucursal',\n",
        "       'id_metpago', 'estado']], left_on='idOrden', right_on='idOrden', how='left')\n",
        "\n",
        "#Exportamos CSV Base ord y base met pago\n",
        "bs_ordenes_total.to_csv(r'C:\\Users\\fedel\\OneDrive\\Escritorio\\Documents\\csv-20241003T214749Z-001\\csv\\finales2\\bs_ordenes_total.csv', index=False)\n",
        "bs_ordenes_3.to_csv(r'C:\\Users\\fedel\\OneDrive\\Escritorio\\Documents\\csv-20241003T214749Z-001\\csv\\finales2\\bs_metpago.csv', index=False)\n"
      ],
      "metadata": {
        "id": "eEkDiTJ927qI"
      },
      "execution_count": null,
      "outputs": []
    },
    {
      "cell_type": "markdown",
      "source": [
        "##Maestro Clientes"
      ],
      "metadata": {
        "id": "hUF6NJdP4TZ-"
      }
    },
    {
      "cell_type": "code",
      "source": [
        "bs_maestro_prod_1 = pd.read_csv(r'C:\\Users\\fedel\\OneDrive\\Escritorio\\Documents\\csv-20241003T214749Z-001\\csv\\bs_maestro_prod_1.csv')\n",
        "bs_maestro_prod_2 = pd.read_csv(r'C:\\Users\\fedel\\OneDrive\\Escritorio\\Documents\\csv-20241003T214749Z-001\\csv\\bs_maestro_prod_2.csv')\n",
        "bs_maestro_prod_3 = pd.read_csv(r'C:\\Users\\fedel\\OneDrive\\Escritorio\\Documents\\csv-20241003T214749Z-001\\csv\\bs_maestro_prod_3.csv')\n",
        "bs_maestro_prod_4 = pd.read_csv(r'C:\\Users\\fedel\\OneDrive\\Escritorio\\Documents\\csv-20241003T214749Z-001\\csv\\bs_maestro_prod_4.csv')\n",
        "bs_maestro_prod_5 = pd.read_csv(r'C:\\Users\\fedel\\OneDrive\\Escritorio\\Documents\\csv-20241003T214749Z-001\\csv\\bs_maestro_prod_5.csv')\n",
        "\n",
        "bs_maestro_prod_2.columns\n",
        "bs_maestro_prod_3.columns\n",
        "\n",
        "\n",
        "bs_maestro_prod_2 = pd.merge(bs_maestro_prod_2, bs_maestro_prod_3[['id_uni_medida', 'unidad_medida']], left_on='id_uni_medida', right_on='id_uni_medida', how='left')\n",
        "bs_maestro_prod_2 = bs_maestro_prod_2.drop('id_uni_medida', axis=1)\n",
        "bs_maestro_prod_2.head()\n",
        "\n",
        "bs_maestro_prod_1 = pd.merge(bs_maestro_prod_1, bs_maestro_prod_2[['idProducto', 'precioUnitario', 'cant_medida', 'precio_uni_medida',\n",
        "       'unidad_medida']], left_on='idProducto', right_on='idProducto', how='left')\n",
        "\n",
        "bs_maestro_prod_1 = pd.merge(bs_maestro_prod_1, bs_maestro_prod_3[['id_uni_medida', 'unidad_medida']], left_on='id_uni_medida', right_on='id_uni_medida', how='left')\n",
        "\n",
        "bs_maestro_prod_1.columns\n",
        "\n",
        "bs_maestro_prod_4 = pd.merge(bs_maestro_prod_4, bs_maestro_prod_5[['idSubcategoria', 'subCategoria', 'categoria']], left_on='idSubcategoria', right_on='idSubcategoria', how='left')\n",
        "bs_maestro_prod_4 = bs_maestro_prod_4.drop('idSubcategoria', axis=1)\n",
        "bs_maestro_prod_4.head()\n",
        "bs_maestro_prod_4.columns\n",
        "\n",
        "bs_maestro_prod_1 = pd.merge(bs_maestro_prod_1, bs_maestro_prod_4[['idProducto', 'subCategoria', 'categoria']], left_on='idProducto', right_on='idProducto', how='left')\n",
        "bs_maestro_prod_1\n",
        "bs_maestro_prod_1.columns\n",
        "\n",
        "bs_maestro_prod_1.to_csv(r'C:\\Users\\fedel\\OneDrive\\Escritorio\\Documents\\csv-20241003T214749Z-001\\csv\\finales2\\base_maestro_prod.csv', index=False)"
      ],
      "metadata": {
        "id": "nQkPnIMz4Vdk"
      },
      "execution_count": null,
      "outputs": []
    },
    {
      "cell_type": "markdown",
      "source": [
        "##Maestro  Sucursales"
      ],
      "metadata": {
        "id": "43m4LnZ03_rk"
      }
    },
    {
      "cell_type": "code",
      "source": [
        "#carga de sucursales\n",
        "bs_maestro_suc_1 = pd.read_csv(r'C:\\Users\\fedel\\OneDrive\\Escritorio\\Documents\\csv-20241003T214749Z-001\\csv\\bs_maestro_suc_1 (1).csv')\n",
        "bs_maestro_suc_2 = pd.read_csv(r'C:\\Users\\fedel\\OneDrive\\Escritorio\\Documents\\csv-20241003T214749Z-001\\csv\\bs_maestro_suc_2 (1).csv')\n",
        "bs_maestro_suc_3 = pd.read_csv(r'C:\\Users\\fedel\\OneDrive\\Escritorio\\Documents\\csv-20241003T214749Z-001\\csv\\bs_maestro_suc_3 (1).csv')\n",
        "bs_maestro_suc_4 = pd.read_csv(r'C:\\Users\\fedel\\OneDrive\\Escritorio\\Documents\\csv-20241003T214749Z-001\\csv\\bs_maestro_suc_4_unpivoted (1).csv')\n",
        "bs_maestro_suc_5 = pd.read_csv(r'C:\\Users\\fedel\\OneDrive\\Escritorio\\Documents\\csv-20241003T214749Z-001\\csv\\bs_maestro_suc_5 (1).csv')\n",
        "bs_maestro_suc_6 = pd.read_csv(r'C:\\Users\\fedel\\OneDrive\\Escritorio\\Documents\\csv-20241003T214749Z-001\\csv\\bs_maestro_suc_6 (1).csv')\n",
        "\n",
        "\n",
        "bs_maestro_suc_2 = pd.merge(bs_maestro_suc_2, bs_maestro_suc_3[['id_provincia', 'provincia']], left_on='id_provincia', right_on='id_provincia', how='left')\n",
        "bs_maestro_suc_2 = bs_maestro_suc_2.drop('id_provincia', axis=1)\n",
        "bs_maestro_suc_2\n",
        "\n",
        "bs_maestro_suc_4.columns\n",
        "bs_maestro_suc_4 = pd.merge(bs_maestro_suc_4, bs_maestro_suc_5[['id_dia', 'dia']], left_on='id_dia', right_on='id_dia', how='left')\n",
        "bs_maestro_suc_4 = bs_maestro_suc_4.drop('id_dia', axis=1)\n",
        "\n",
        "bs_maestro_suc_6.columns\n",
        "bs_maestro_suc_4 = pd.merge(bs_maestro_suc_4, bs_maestro_suc_6[['id_horario', 'hs_apertura', 'hs_cierre', 'estado']], left_on='id_horario', right_on='id_horario', how='left')\n",
        "bs_maestro_suc_4 = bs_maestro_suc_4.drop('id_horario', axis=1)\n",
        "bs_maestro_suc_4\n",
        "\n",
        "bs_maestro_suc_1 = pd.merge(bs_maestro_suc_1, bs_maestro_suc_4[['idSucursal', 'dia', 'hs_apertura', 'hs_cierre', 'estado']], left_on='idSucursal', right_on='idSucursal', how='left')\n",
        "bs_maestro_suc_1 = bs_maestro_suc_1.rename(columns={'estado_x':'estado','estado_y':'estado_dia'})\n",
        "bs_maestro_suc_1.columns\n",
        "\n",
        "bs_maestro_suc_1_dina = bs_maestro_suc_1.pivot(index=['idSucursal', 'nombre', 'fechaAlta', 'fechaBaja','estado'],\n",
        "                    columns='dia',\n",
        "                    values=['hs_apertura', 'hs_cierre']).reset_index()\n",
        "\n",
        "\n",
        "bs_maestro_suc_1_dina.columns = [f'{col[1]}_{col[0]}' for col in bs_maestro_suc_1_dina.columns]\n",
        "\n",
        "bs_maestro_suc_1_dina = bs_maestro_suc_1_dina.rename(columns={'_idSucursal':'idSucursal','_nombre':'nombre','_fechaAlta':'fechaAlta','_fechaBaja':'fechaBaja','_estado':'estado'})\n",
        "#bs_maestro_suc_1_dt = bs_maestro_suc_1_dt.reset_index(drop=True)\n",
        "\n",
        "\n",
        "bs_maestro_suc_1_dina.columns\n",
        "bs_maestro_suc_1_dina.info()\n",
        "\n",
        "bs_maestro_suc_2\n",
        "bs_maestro_suc_1_dina = pd.merge(bs_maestro_suc_1_dina, bs_maestro_suc_2[['idSucursal', 'direccion', 'localidad', 'provincia']], left_on='idSucursal', right_on='idSucursal', how='left')\n",
        "\n",
        "bs_maestro_suc_1_dina = bs_maestro_suc_1_dina.reindex(['idSucursal', 'nombre', 'fechaAlta', 'fechaBaja', 'estado', 'direccion','localidad', 'provincia',\n",
        "       'Lunes_hs_apertura', 'Lunes_hs_cierre', 'Martes_hs_apertura', 'Martes_hs_cierre',\n",
        "        'Miercoles_hs_apertura','Miercoles_hs_cierre', 'Jueves_hs_apertura', 'Jueves_hs_cierre',\n",
        "        'Viernes_hs_apertura','Viernes_hs_cierre','Sabado_hs_apertura','Sabado_hs_cierre',\n",
        "        'Domingo_hs_apertura','Domingo_hs_cierre'], axis=1)\n",
        "\n",
        "\n",
        "bs_maestro_suc_1_dina.to_csv(r'C:\\Users\\fedel\\OneDrive\\Escritorio\\Documents\\csv-20241003T214749Z-001\\csv\\finales2\\base_maestro_sucursal.csv', index=False)"
      ],
      "metadata": {
        "id": "6qxIxpCk4JJe"
      },
      "execution_count": null,
      "outputs": []
    },
    {
      "cell_type": "markdown",
      "source": [
        "##Maestro  Clientes"
      ],
      "metadata": {
        "id": "uYsi-NvS34xE"
      }
    },
    {
      "cell_type": "code",
      "source": [
        "#maestro de clientes\n",
        "bs_maestro_clientes_1 = pd.read_csv(r'C:\\Users\\fedel\\OneDrive\\Escritorio\\Documents\\csv-20241003T214749Z-001\\csv\\bs_maestro_clientes_1.csv')\n",
        "bs_maestro_clientes_2 = pd.read_csv(r'C:\\Users\\fedel\\OneDrive\\Escritorio\\Documents\\csv-20241003T214749Z-001\\csv\\bs_maestro_clientes_2.csv')\n",
        "bs_maestro_clientes_3 = pd.read_csv(r'C:\\Users\\fedel\\OneDrive\\Escritorio\\Documents\\csv-20241003T214749Z-001\\csv\\bs_maestro_clientes_3.csv')\n",
        "bs_maestro_clientes_4 = pd.read_csv(r'C:\\Users\\fedel\\OneDrive\\Escritorio\\Documents\\csv-20241003T214749Z-001\\csv\\bs_maestro_clientes_4.csv')\n",
        "bs_maestro_clientes_5 = pd.read_csv(r'C:\\Users\\fedel\\OneDrive\\Escritorio\\Documents\\csv-20241003T214749Z-001\\csv\\bs_maestro_clientes_5.csv')\n",
        "\n",
        "bs_maestro_clientes_4 = pd.merge(bs_maestro_clientes_4, bs_maestro_clientes_5[['id_prov', 'provincia']], left_on='id_prov', right_on='id_prov', how='left')\n",
        "bs_maestro_clientes_4 = bs_maestro_clientes_4.drop('id_prov', axis=1)\n",
        "\n",
        "bs_maestro_clientes_2 = pd.merge(bs_maestro_clientes_2, bs_maestro_clientes_3[['id_genero', 'genero']], left_on='id_genero', right_on='id_genero', how='left')\n",
        "bs_maestro_clientes_2 = bs_maestro_clientes_2.drop('id_genero', axis=1)\n",
        "\n",
        "bs_maestro_clientes_1 = pd.merge(bs_maestro_clientes_1, bs_maestro_clientes_2[['idCliente', 'genero']], left_on='idCliente', right_on='idCliente', how='left')\n",
        "bs_maestro_clientes_1\n",
        "\n",
        "bs_maestro_clientes_1 = pd.merge(bs_maestro_clientes_1, bs_maestro_clientes_4[['idCliente', 'provincia']], left_on='idCliente', right_on='idCliente', how='left')\n",
        "bs_maestro_clientes_1\n",
        "\n",
        "bs_maestro_clientes_1.to_csv(r'C:\\Users\\fedel\\OneDrive\\Escritorio\\Documents\\csv-20241003T214749Z-001\\csv\\finales2\\base_maestro_clientes.csv', index=False)"
      ],
      "metadata": {
        "id": "7kakp20Q33EK"
      },
      "execution_count": null,
      "outputs": []
    },
    {
      "cell_type": "markdown",
      "source": [
        "##Creación Base SQL - en servidor"
      ],
      "metadata": {
        "id": "QeejH72HAWtZ"
      }
    },
    {
      "cell_type": "code",
      "source": [
        "#SQL para base_maestro_clientes.csv:\n",
        "CREATE TABLE base_maestro_clientes (\n",
        "  idCliente INT,\n",
        "  fechaAlta VARCHAR(255),\n",
        "  fechaNacimiento VARCHAR(255),\n",
        "  nombre VARCHAR(255),\n",
        "  apellido VARCHAR(255),\n",
        "  email VARCHAR(255),\n",
        "  fechaBaja FLOAT,\n",
        "  estado FLOAT,\n",
        "  genero VARCHAR(255),\n",
        "  provincia VARCHAR(255)\n",
        ");\n",
        "\n",
        "#SQL para base_maestro_prod.csv:\n",
        "CREATE TABLE base_maestro_prod (\n",
        "  idProducto INT,\n",
        "  fechaAlta VARCHAR(255),\n",
        "  descripcion VARCHAR(255),\n",
        "  fechaBaja FLOAT,\n",
        "  estado FLOAT,\n",
        "  tiene_oferta VARCHAR(255),\n",
        "  precioUnitario FLOAT,\n",
        "  cant_medida FLOAT,\n",
        "  precio_uni_medida FLOAT,\n",
        "  unidad_medida VARCHAR(255),\n",
        "  subCategoria VARCHAR(255),\n",
        "  categoria VARCHAR(255)\n",
        ");\n",
        "\n",
        "#SQL para base_maestro_sucursal.csv:\n",
        "CREATE TABLE base_maestro_sucursal (\n",
        "  idSucursal INT,\n",
        "  nombre VARCHAR(255),\n",
        "  fechaAlta VARCHAR(255),\n",
        "  fechaBaja FLOAT,\n",
        "  estado FLOAT,\n",
        "  direccion VARCHAR(255),\n",
        "  localidad VARCHAR(255),\n",
        "  provincia VARCHAR(255),\n",
        "  Lunes_hs_apertura VARCHAR(255),\n",
        "  Lunes_hs_cierre VARCHAR(255),\n",
        "  Martes_hs_apertura VARCHAR(255),\n",
        "  Martes_hs_cierre VARCHAR(255),\n",
        "  Miercoles_hs_apertura VARCHAR(255),\n",
        "  Miercoles_hs_cierre VARCHAR(255),\n",
        "  Jueves_hs_apertura VARCHAR(255),\n",
        "  Jueves_hs_cierre VARCHAR(255),\n",
        "  Viernes_hs_apertura VARCHAR(255),\n",
        "  Viernes_hs_cierre VARCHAR(255),\n",
        "  Sabado_hs_apertura VARCHAR(255),\n",
        "  Sabado_hs_cierre VARCHAR(255),\n",
        "  Domingo_hs_apertura VARCHAR(255),\n",
        "  Domingo_hs_cierre VARCHAR(255)\n",
        ");\n",
        "\n",
        "#SQL para bs_metpago.csv:\n",
        "CREATE TABLE bs_metpago (\n",
        "  id_metpago INT,\n",
        "  metodoDePago VARCHAR(255)\n",
        ");\n",
        "\n",
        "#SQL para bs_ordenes_total.csv:\n",
        "CREATE TABLE bs_ordenes_total (\n",
        "  id_ord_total VARCHAR(255),\n",
        "  operacion VARCHAR(255),\n",
        "  id_ord_prod VARCHAR(255),\n",
        "  idOrden INT,\n",
        "  idProducto INT,\n",
        "  cantidad FLOAT,\n",
        "  precioUnitario FLOAT,\n",
        "  precio FLOAT,\n",
        "  cantidadDevuelta FLOAT,\n",
        "  fechaDevolucion VARCHAR(255),\n",
        "  motivoDevolucion VARCHAR(255),\n",
        "  resolucion VARCHAR(255),\n",
        "  montoTotal FLOAT,\n",
        "  fechaCompra VARCHAR(255),\n",
        "  idCliente INT,\n",
        "  idSucursal INT,\n",
        "  id_metpago INT,\n",
        "  estado VARCHAR(255)\n",
        ");"
      ],
      "metadata": {
        "id": "p0df-NQgAduF"
      },
      "execution_count": null,
      "outputs": []
    },
    {
      "cell_type": "markdown",
      "source": [
        "##Carga SQL"
      ],
      "metadata": {
        "id": "x2C2_D78BLie"
      }
    },
    {
      "cell_type": "code",
      "source": [
        "# Conexión a la DDBB\n",
        "from sqlalchemy import create_engine\n",
        "\n",
        "USERNAME = \"root\"\n",
        "PASSWORD = \"\"\n",
        "BBDD = \"supermercado_OLAP\"\n",
        "PORT = \"3306\"  # Puerto por defecto para MySQL\n",
        "SERVICE = \"localhost\"\n",
        "\n",
        "# Lista de archivos CSV\n",
        "csv_files = [\"base_maestro_clientes.csv\", \"base_maestro_prod.csv\", \"base_maestro_sucursal.csv\", \"bs_metpago.csv\", \"bs_ordenes_total.csv\"]\n",
        "\n",
        "if __name__ == \"__main__\":\n",
        "    # Creación del motor de conexión\n",
        "    engine = create_engine(f'mysql+mysqlconnector://{USERNAME}:{PASSWORD}@{SERVICE}:{PORT}/{BBDD}', echo=False)\n",
        "\n",
        "    # Cargar los CSVs en las tablas\n",
        "    for csv_file in csv_files:\n",
        "        table_name = csv_file.split(\".\")[0]\n",
        "        df = pd.read_csv(csv_file)\n",
        "        df.to_sql(table_name, engine, index=False, if_exists='replace')\n",
        "        print(f\"Datos cargados en la tabla {table_name}\")\n"
      ],
      "metadata": {
        "id": "CFVEglAuBS2P"
      },
      "execution_count": null,
      "outputs": []
    }
  ]
}